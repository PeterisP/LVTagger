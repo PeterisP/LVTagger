{
  "nbformat": 4,
  "nbformat_minor": 0,
  "metadata": {
    "colab": {
      "provenance": [],
      "include_colab_link": true
    },
    "kernelspec": {
      "name": "python3",
      "display_name": "Python 3"
    },
    "language_info": {
      "name": "python"
    }
  },
  "cells": [
    {
      "cell_type": "markdown",
      "metadata": {
        "id": "view-in-github",
        "colab_type": "text"
      },
      "source": [
        "<a href=\"https://colab.research.google.com/github/viestursjl/LVTagger/blob/master/notebooks/hfst.ipynb\" target=\"_parent\"><img src=\"https://colab.research.google.com/assets/colab-badge.svg\" alt=\"Open In Colab\"/></a>"
      ]
    },
    {
      "cell_type": "markdown",
      "source": [
        "# Galīgo automātu lietojums morfoloģiskajā apstrādē | Finite state automata for morphology processing"
      ],
      "metadata": {
        "id": "4doVwHqc84g3"
      }
    },
    {
      "cell_type": "markdown",
      "source": [
        "Helsinki Finite State Transdusers (HFST)\n",
        "\n",
        "Skat. arī.: https://github.com/hfst/compmorph-course/tree/v1.0"
      ],
      "metadata": {
        "id": "SsVugSgT9I4Y"
      }
    },
    {
      "cell_type": "code",
      "execution_count": null,
      "metadata": {
        "id": "hwAp9jgLBAO_"
      },
      "outputs": [],
      "source": [
        "# !pip install hfst"
      ]
    },
    {
      "cell_type": "code",
      "source": [
        "!pip install hfst_dev"
      ],
      "metadata": {
        "id": "5pLt3IA-nDRz"
      },
      "execution_count": null,
      "outputs": []
    },
    {
      "cell_type": "code",
      "source": [
        "# import hfst as hfst\n",
        "import hfst_dev"
      ],
      "metadata": {
        "id": "rr99fLiiBQox"
      },
      "execution_count": null,
      "outputs": []
    },
    {
      "cell_type": "code",
      "source": [
        "help(hfst_dev)"
      ],
      "metadata": {
        "id": "c7VikVSMbvtN"
      },
      "execution_count": null,
      "outputs": []
    },
    {
      "cell_type": "code",
      "source": [
        "help(hfst_dev.compile_lexc_file)"
      ],
      "metadata": {
        "id": "XSwkvA5Rs2sj"
      },
      "execution_count": null,
      "outputs": []
    },
    {
      "cell_type": "code",
      "source": [
        "help(hfst_dev.compile_twolc_file)"
      ],
      "metadata": {
        "id": "ouOOYk7ttXFS"
      },
      "execution_count": null,
      "outputs": []
    },
    {
      "cell_type": "markdown",
      "source": [
        "## Vārdformu ģenerators | Word form synthesis\n",
        "\n",
        "\n",
        "\n"
      ],
      "metadata": {
        "id": "Mmj19wzzS0Q4"
      }
    },
    {
      "cell_type": "markdown",
      "source": [
        "### LV: Leksikons kodā | EN: Small lexicon in code"
      ],
      "metadata": {
        "id": "B2sHsa-jnVG-"
      }
    },
    {
      "cell_type": "code",
      "source": [
        "from hfst_dev import compile_lexc_script"
      ],
      "metadata": {
        "id": "Lv_46bc4nUjT"
      },
      "execution_count": null,
      "outputs": []
    },
    {
      "cell_type": "code",
      "source": [
        "gen = compile_lexc_script(\n",
        "\"\"\"\n",
        "!Define all symbols consisting of multiple characters\n",
        "Multichar_Symbols\n",
        "        +N      ! Noun tag\n",
        "        +Sg     ! Singular\n",
        "        +Pl     ! Plural\n",
        "        +Nom\n",
        "        +Gen\n",
        "        +Dat\n",
        "        +Acc\n",
        "        +Loc\n",
        "\n",
        "!Define root lexicon\n",
        "LEXICON Root\n",
        "        Nouns ; ! No input, no output\n",
        "\n",
        "\n",
        "!Define noun lexicon\n",
        "LEXICON Nouns\n",
        "\n",
        "rok N4dekl ;\n",
        "\n",
        "! Define 4th declension paradigm\n",
        "\n",
        "LEXICON N4dekl\n",
        "+N+Sg+Nom:^a  # ;\n",
        "+N+Sg+Gen:^as # ;\n",
        "+N+Sg+Dat:^ai # ;\n",
        "+N+Sg+Acc:^u # ;\n",
        "+N+Sg+Loc:^ā # ;\n",
        "+N+Pl+Nom:^as  # ;\n",
        "+N+Pl+Gen:^u  # ;\n",
        "+N+Pl+Dat:^ām # ;\n",
        "+N+Pl+Acc:^as # ;\n",
        "+N+Pl+Loc:^ās # ;\n",
        "\n",
        "\n",
        "END\n",
        "\"\"\", verbosity=2\n",
        ")\n"
      ],
      "metadata": {
        "id": "W-dWg6DAnoUS"
      },
      "execution_count": null,
      "outputs": []
    },
    {
      "cell_type": "code",
      "source": [
        "print(gen.lookup('rok+N+Sg+Dat'))\n",
        "## 0 izvadā ir svars"
      ],
      "metadata": {
        "id": "4L0LzoV7nx_X"
      },
      "execution_count": null,
      "outputs": []
    },
    {
      "cell_type": "markdown",
      "source": [
        "### LV: Leksikons atsevišķā failā | EN: Lexicon in separate file"
      ],
      "metadata": {
        "id": "_QZ8yjNllJqd"
      }
    },
    {
      "cell_type": "code",
      "source": [
        "!wget https://github.com/LUMII-AILab/NLP_Course/blob/main/notebooks/resources/lvLex.lexc"
      ],
      "metadata": {
        "id": "Nb_KEu95Hoy2"
      },
      "execution_count": null,
      "outputs": []
    },
    {
      "cell_type": "code",
      "source": [
        "#import hfst\n",
        "generator = hfst_dev.compile_lexc_file('lvLex.lexc')\n",
        "print(generator.lookup('rok+N+Sg+Gen'))"
      ],
      "metadata": {
        "id": "l_X_GHljt2fE"
      },
      "execution_count": null,
      "outputs": []
    },
    {
      "cell_type": "markdown",
      "source": [
        "## Transdjūseri: divu līmeņu morfoloģija | Transducers: two level morphology\n"
      ],
      "metadata": {
        "id": "7jDoF0iCTaLE"
      }
    },
    {
      "cell_type": "markdown",
      "source": [
        "### LV: Morfoloģiskā analīze un sintēze | EN: Morphologycal analysis and synthesis\n"
      ],
      "metadata": {
        "id": "ryIi1BUXUrGs"
      }
    },
    {
      "cell_type": "code",
      "source": [
        "# Sintēze | Generation\n",
        "from hfst_dev import HfstTransducer\n",
        "analyzer = HfstTransducer(generator) # create a copy\n",
        "print(analyzer.lookup('rok+N+Sg+Nom'))\n"
      ],
      "metadata": {
        "id": "T4VOK_dA57A-"
      },
      "execution_count": null,
      "outputs": []
    },
    {
      "cell_type": "code",
      "source": [
        "# Analīze | Analysis\n",
        "# We need to invert the transducer to get an analyzer\n",
        "# After inversion, it is good to minimize the transducer (i.e. reduce it to an equivalent transducer with the smallest number of states).\n",
        "\n",
        "analyzer.invert()\n",
        "analyzer.minimize()\n",
        "print(analyzer.lookup('rok^a'))"
      ],
      "metadata": {
        "id": "afcciBSg8R2S"
      },
      "execution_count": null,
      "outputs": []
    },
    {
      "cell_type": "code",
      "source": [
        "# salīdzināšana | comparison\n",
        "analyzer.invert()\n",
        "analyzer.minimize()\n",
        "print(analyzer.compare(generator))"
      ],
      "metadata": {
        "id": "uMUXs84Z-311"
      },
      "execution_count": null,
      "outputs": []
    },
    {
      "cell_type": "markdown",
      "source": [
        "## FST kaskādēšana | **Cascading**"
      ],
      "metadata": {
        "id": "ZQn1kqXIU3Qh"
      }
    },
    {
      "cell_type": "markdown",
      "source": [
        "Pārveidošanas likumi\n",
        "![image.png](data:image/png;base64,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)"
      ],
      "metadata": {
        "id": "N4HjdLmnVDWl"
      }
    },
    {
      "cell_type": "code",
      "source": [
        "from hfst_dev import regex, HfstTransducer"
      ],
      "metadata": {
        "id": "cwMi6fVA70Gs"
      },
      "execution_count": null,
      "outputs": []
    },
    {
      "cell_type": "markdown",
      "source": [
        "Iespraušana"
      ],
      "metadata": {
        "id": "KmvMi9ro7fZn"
      }
    },
    {
      "cell_type": "code",
      "source": [
        "#Insertion\n",
        "InsertJ = hfst_dev.regex('[..] -> j || [b | f | m | p | v] _ \"^\" M')\n",
        "print(InsertJ.lookup(\"ķirb^Ma'\"))"
      ],
      "metadata": {
        "id": "DRjhHLhS7aM0"
      },
      "execution_count": null,
      "outputs": []
    },
    {
      "cell_type": "markdown",
      "source": [
        "Aizstāšana"
      ],
      "metadata": {
        "id": "vpuc2Uj6VRct"
      }
    },
    {
      "cell_type": "code",
      "source": [
        "# Replacement\n",
        "CReplacement = hfst_dev.regex('c -> č ||  _ \"^\" M')\n",
        "print(CReplacement.lookup(\"lāc^Ma'\"))\n",
        "\n",
        "\n",
        "\n",
        "\n"
      ],
      "metadata": {
        "id": "iqYf8kSiGB92"
      },
      "execution_count": null,
      "outputs": []
    },
    {
      "cell_type": "markdown",
      "source": [
        "Izņēmumi"
      ],
      "metadata": {
        "id": "D3TxseNWfacF"
      }
    },
    {
      "cell_type": "code",
      "source": [
        "#Exceptions\n",
        "Exceptions = hfst_dev.regex('[[{puik} \"+N\" \"+Sg\" \"+Dat\" .x. {puikam}] ]')\n"
      ],
      "metadata": {
        "id": "6zmsbOR6fUr2"
      },
      "execution_count": null,
      "outputs": []
    },
    {
      "cell_type": "markdown",
      "source": [
        "Dzēšana"
      ],
      "metadata": {
        "id": "KC3KMPB2Wrwo"
      }
    },
    {
      "cell_type": "code",
      "source": [
        "#Deleting\n",
        "MCleanup = hfst_dev.regex('M -> 0')\n",
        "Cleanup = hfst_dev.regex('\"^\" -> 0')\n",
        "print(MCleanup.lookup(\"lāč^Ma'\"))"
      ],
      "metadata": {
        "id": "-H5KwnkOWuzZ"
      },
      "execution_count": null,
      "outputs": []
    },
    {
      "cell_type": "markdown",
      "source": [
        "## FST apvienošana | Copmpsition"
      ],
      "metadata": {
        "id": "bOTKSh6yfmBd"
      }
    },
    {
      "cell_type": "code",
      "source": [
        "# Sintēze | Generation\n",
        "from hfst_dev import compose\n",
        "cascade = compose((generator, InsertJ, CReplacement, MCleanup,Cleanup))\n",
        "print(cascade.lookup(\"rok+N+Pl+Loc\"))\n"
      ],
      "metadata": {
        "id": "D-_iS_J0oPxL"
      },
      "execution_count": null,
      "outputs": []
    },
    {
      "cell_type": "code",
      "source": [
        "#if you use hfst library you will need to remove Epsilon symbol also\n",
        "#cascade.remove_epsilons()\n",
        "#print(cascade.lookup(\"rok+N+Pl+Loc\")[0][0].replace(\"@_EPSILON_SYMBOL_@\", \"\"))\n",
        "\n",
        "\n",
        "\n",
        "\n"
      ],
      "metadata": {
        "id": "NlrriBT85BQU"
      },
      "execution_count": null,
      "outputs": []
    },
    {
      "cell_type": "code",
      "source": [
        "# Analīze | Analysis\n",
        "inv = hfst_dev.HfstTransducer(cascade)\n",
        "inv.invert()\n",
        "inv.convert(hfst_dev.ImplementationType.HFST_OL_TYPE)\n",
        "print(inv.lookup(\"ķirbja\"))"
      ],
      "metadata": {
        "id": "ViiSEqs7hoZm"
      },
      "execution_count": null,
      "outputs": []
    }
  ]
}